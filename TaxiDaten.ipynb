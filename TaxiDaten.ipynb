{
 "cells": [
  {
   "cell_type": "markdown",
   "metadata": {},
   "source": [
    "# Uber Taxidaten in NYC\n",
    "## Zeitraum April bis September 2014\n",
    "- Rohdaten enthalten Datum mit Uhrzeit und den Länge/Breite, wohin ein Uber bestellt wurde\n",
    "- jede Zeile repräsentiert eine Fahrt"
   ]
  },
  {
   "cell_type": "code",
   "execution_count": 1,
   "metadata": {},
   "outputs": [
    {
     "name": "stdout",
     "output_type": "stream",
     "text": [
      "env: SPARK_LOCAL_HOSTNAME=localhost\n"
     ]
    }
   ],
   "source": [
    "%matplotlib inline\n",
    "\n",
    "import matplotlib.pyplot as plt\n",
    "\n",
    "%env SPARK_LOCAL_HOSTNAME=localhost\n",
    "import findspark\n",
    "findspark.init()\n",
    "findspark.find()\n",
    "import pyspark\n",
    "from pyspark.sql import SparkSession\n",
    "from pyspark.sql.functions import col\n",
    "from pyspark.sql.types import *"
   ]
  },
  {
   "cell_type": "code",
   "execution_count": 2,
   "metadata": {},
   "outputs": [],
   "source": [
    "# Daten einlesen mit typisiertem Schema\n",
    "# Dateipfad *.csv bedeutet alle csv werden geladen\n",
    "spark = SparkSession.builder.appName(\"TaxiData\").getOrCreate()\n",
    "\n",
    "schema = StructType([\n",
    "    StructField(\"date\", StringType()),\n",
    "    StructField(\"lat\", DoubleType()),\n",
    "    StructField(\"lon\", DoubleType()),\n",
    "    StructField(\"base\", StringType())\n",
    "])\n",
    "\n",
    "csv = spark.read.option(\"header\", \"true\").csv(\"./data/uber/*.csv\", schema = schema).cache()"
   ]
  },
  {
   "cell_type": "code",
   "execution_count": 3,
   "metadata": {},
   "outputs": [
    {
     "name": "stdout",
     "output_type": "stream",
     "text": [
      "+----------------+-------+--------+------+\n",
      "|            date|    lat|     lon|  base|\n",
      "+----------------+-------+--------+------+\n",
      "|8/1/2014 0:03:00|40.7366|-73.9906|B02512|\n",
      "|8/1/2014 0:09:00| 40.726|-73.9918|B02512|\n",
      "|8/1/2014 0:12:00|40.7209|-74.0507|B02512|\n",
      "|8/1/2014 0:12:00|40.7387|-73.9856|B02512|\n",
      "|8/1/2014 0:12:00|40.7323|-74.0077|B02512|\n",
      "|8/1/2014 0:13:00|40.7349|-74.0033|B02512|\n",
      "|8/1/2014 0:15:00|40.7279|-73.9542|B02512|\n",
      "|8/1/2014 0:17:00| 40.721|-73.9937|B02512|\n",
      "|8/1/2014 0:19:00|40.7195| -74.006|B02512|\n",
      "|8/1/2014 0:20:00|40.7448|-73.9799|B02512|\n",
      "|8/1/2014 0:21:00|40.7399|-74.0057|B02512|\n",
      "|8/1/2014 0:25:00|40.7651|-73.9683|B02512|\n",
      "|8/1/2014 0:27:00|40.7354|-74.0081|B02512|\n",
      "|8/1/2014 0:29:00|40.7339|-74.0028|B02512|\n",
      "|8/1/2014 0:29:00|40.7364|-74.0301|B02512|\n",
      "|8/1/2014 0:29:00|40.7364|-74.0301|B02512|\n",
      "|8/1/2014 0:30:00|40.7252|-73.9516|B02512|\n",
      "|8/1/2014 0:30:00|40.7433| -73.986|B02512|\n",
      "|8/1/2014 0:34:00|40.7437|-73.9884|B02512|\n",
      "|8/1/2014 0:36:00|40.7406|-74.0077|B02512|\n",
      "+----------------+-------+--------+------+\n",
      "only showing top 20 rows\n",
      "\n"
     ]
    }
   ],
   "source": [
    "csv.show()"
   ]
  },
  {
   "cell_type": "code",
   "execution_count": 4,
   "metadata": {},
   "outputs": [
    {
     "data": {
      "text/plain": [
       "4534327"
      ]
     },
     "execution_count": 4,
     "metadata": {},
     "output_type": "execute_result"
    }
   ],
   "source": [
    "csv.count()"
   ]
  },
  {
   "cell_type": "code",
   "execution_count": 5,
   "metadata": {},
   "outputs": [
    {
     "name": "stdout",
     "output_type": "stream",
     "text": [
      "root\n",
      " |-- date: string (nullable = true)\n",
      " |-- lat: double (nullable = true)\n",
      " |-- lon: double (nullable = true)\n",
      " |-- base: string (nullable = true)\n",
      "\n"
     ]
    }
   ],
   "source": [
    "# erste Spalte als Datum noch auf String\n",
    "# Ziel: echtes Datumsformat verwenden mittels eigener Funktion\n",
    "csv.printSchema()"
   ]
  },
  {
   "cell_type": "code",
   "execution_count": 6,
   "metadata": {},
   "outputs": [
    {
     "name": "stdout",
     "output_type": "stream",
     "text": [
      "2014-08-01 00:36:00\n"
     ]
    }
   ],
   "source": [
    "# Bsp. Datum aus csv in Datumsformat umwandeln\n",
    "###\n",
    "\n",
    "# importiere datetime KLasse\n",
    "from datetime import datetime\n",
    "\n",
    "dateItem = \"8/1/2014 0:36:00\"\n",
    "\n",
    "# Ausgabe Datumsobjekt\n",
    "print(datetime.strptime(\"8/1/2014 0:36:00\", \"%m/%d/%Y %H:%M:%S\"))"
   ]
  },
  {
   "cell_type": "markdown",
   "metadata": {},
   "source": [
    "**`strptime(date_string, format)`**\n",
    "- *`date_string`* ist der Sring, wie er in den Daten vorliegt\n",
    "- *`format`* muss das vorliegende Format des *`date_strings`* wiedergeben"
   ]
  },
  {
   "cell_type": "code",
   "execution_count": 7,
   "metadata": {},
   "outputs": [],
   "source": [
    "# Benutzerdefinierte Funktion (User defined function)\n",
    "from pyspark.sql.functions import udf\n",
    "\n",
    "# mit dieser Funktion lässt sich die Datumsspalte umwandeln\n",
    "f = udf(lambda x: datetime.strptime(x, \"%m/%d/%Y %H:%M:%S\"), TimestampType())"
   ]
  },
  {
   "cell_type": "markdown",
   "metadata": {},
   "source": [
    "**`udf` kann nun in der `withColumn()`-Funktion als zweiter Parameter zum Umwandeln in Datumsformat genutzt werden**"
   ]
  },
  {
   "cell_type": "code",
   "execution_count": 8,
   "metadata": {},
   "outputs": [
    {
     "name": "stdout",
     "output_type": "stream",
     "text": [
      "root\n",
      " |-- date: timestamp (nullable = true)\n",
      " |-- lat: double (nullable = true)\n",
      " |-- lon: double (nullable = true)\n",
      " |-- base: string (nullable = true)\n",
      "\n"
     ]
    }
   ],
   "source": [
    "csv.withColumn(\"date\", f(csv.date)).printSchema()"
   ]
  },
  {
   "cell_type": "markdown",
   "metadata": {},
   "source": [
    "PySpark SQL - Dokumentation: http://spark.apache.org/docs/2.1.0/api/python/pyspark.sql.html"
   ]
  },
  {
   "cell_type": "code",
   "execution_count": 9,
   "metadata": {},
   "outputs": [
    {
     "name": "stdout",
     "output_type": "stream",
     "text": [
      "+-------------------+-------+--------+------+\n",
      "|               date|    lat|     lon|  base|\n",
      "+-------------------+-------+--------+------+\n",
      "|2014-08-01 00:03:00|40.7366|-73.9906|B02512|\n",
      "|2014-08-01 00:09:00| 40.726|-73.9918|B02512|\n",
      "|2014-08-01 00:12:00|40.7209|-74.0507|B02512|\n",
      "|2014-08-01 00:12:00|40.7387|-73.9856|B02512|\n",
      "|2014-08-01 00:12:00|40.7323|-74.0077|B02512|\n",
      "|2014-08-01 00:13:00|40.7349|-74.0033|B02512|\n",
      "|2014-08-01 00:15:00|40.7279|-73.9542|B02512|\n",
      "|2014-08-01 00:17:00| 40.721|-73.9937|B02512|\n",
      "|2014-08-01 00:19:00|40.7195| -74.006|B02512|\n",
      "|2014-08-01 00:20:00|40.7448|-73.9799|B02512|\n",
      "|2014-08-01 00:21:00|40.7399|-74.0057|B02512|\n",
      "|2014-08-01 00:25:00|40.7651|-73.9683|B02512|\n",
      "|2014-08-01 00:27:00|40.7354|-74.0081|B02512|\n",
      "|2014-08-01 00:29:00|40.7339|-74.0028|B02512|\n",
      "|2014-08-01 00:29:00|40.7364|-74.0301|B02512|\n",
      "|2014-08-01 00:29:00|40.7364|-74.0301|B02512|\n",
      "|2014-08-01 00:30:00|40.7252|-73.9516|B02512|\n",
      "|2014-08-01 00:30:00|40.7433| -73.986|B02512|\n",
      "|2014-08-01 00:34:00|40.7437|-73.9884|B02512|\n",
      "|2014-08-01 00:36:00|40.7406|-74.0077|B02512|\n",
      "+-------------------+-------+--------+------+\n",
      "only showing top 20 rows\n",
      "\n"
     ]
    }
   ],
   "source": [
    "# Fertige Formatierung der Daten\n",
    "###\n",
    "data = csv.withColumn(\"date\", f(csv.date))\n",
    "data.show()"
   ]
  },
  {
   "cell_type": "markdown",
   "metadata": {},
   "source": [
    "## Zu welcher Uhrzeit (Stunde) wurden die meisten Taxis bestellt?\n",
    "### Ziel: Plot der Anzahl an Fahrten (y) über den Tagesstunden (x)\n",
    "**1. alle Funktionen aus pyspark.sql laden**\n",
    "    - `import pyspark.sql.functions as F`\n",
    "**2. Datumsspalte nach Stunden gruppieren und zählen**\n",
    "    - `.date_format()` Funktion wandelt das Datum in einen String um, der nur die Stunden enthält\n",
    "    - `.groupBy()` nutzt neue Zeit um zu gruppieren, enthält aber noch kein Format, das angezeigt werden kann\n",
    "    - nach `.groupBy()` wird `.count()` genutzt, um diese zu zählen\n",
    "    - Daten sind nun zwei Spalten mit den Stunden und der Anzahl Fahrten\n",
    "**3. Neue Stundenspalte wieder in Integer umwandeln, damit aufsteigend sortiert werden kann**\n",
    "    - es entsteht eine dritte Spalte `hour` aus der Stundenspalte\n",
    "**4. Sortieren nach der Integer Spalte `hour`**\n",
    "    - `.orderBy(\"hour\")`\n",
    "**5. Daten als Pythonobjekt abfragen**\n",
    "    - `.collect()`\n",
    "**6. Daten aus 5. in matplotlib geeignete arrays füllen**\n",
    "\n",
    "**7. matplotlib nutzen**"
   ]
  },
  {
   "cell_type": "code",
   "execution_count": 10,
   "metadata": {},
   "outputs": [],
   "source": [
    "# alle Funktionen aus pyspark.sql Modul laden\n",
    "###\n",
    "import pyspark.sql.functions as F"
   ]
  },
  {
   "cell_type": "code",
   "execution_count": 11,
   "metadata": {},
   "outputs": [
    {
     "name": "stdout",
     "output_type": "stream",
     "text": [
      "+--------------------+------+\n",
      "|date_format(date, H)| count|\n",
      "+--------------------+------+\n",
      "|                   7|193094|\n",
      "|                  15|275466|\n",
      "|                  11|165703|\n",
      "|                   3| 48287|\n",
      "|                   8|190504|\n",
      "|                  22|241858|\n",
      "|                  16|313400|\n",
      "|                   0|103836|\n",
      "|                   5| 83939|\n",
      "|                  18|324679|\n",
      "|                  17|336190|\n",
      "|                   6|143213|\n",
      "|                  19|294513|\n",
      "|                  23|169190|\n",
      "|                   9|159967|\n",
      "|                   1| 67227|\n",
      "|                  20|284604|\n",
      "|                  10|159148|\n",
      "|                   4| 55230|\n",
      "|                  12|170452|\n",
      "+--------------------+------+\n",
      "only showing top 20 rows\n",
      "\n",
      "root\n",
      " |-- date_format(date, H): string (nullable = true)\n",
      " |-- count: long (nullable = false)\n",
      "\n"
     ]
    }
   ],
   "source": [
    "# Daten nach Stunden gruppieren und zählen\n",
    "###\n",
    "data.groupBy(F.date_format(data.date, \"H\")).count().show()\n",
    "data.groupBy(F.date_format(data.date, \"H\")).count().printSchema()"
   ]
  },
  {
   "cell_type": "markdown",
   "metadata": {},
   "source": [
    "**`date_format(date, format)` Funktion aus pyspark.sql:**  \n",
    "Converts a date/timestamp/string to a value of string in the format specified by the date format given by the second argument.\n",
    "\n",
    "A pattern could be for instance dd.MM.yyyy and could return a string like ‘18.03.1993’. All pattern letters of the Java class java.text.SimpleDateFormat can be used.\n",
    "\n",
    "https://docs.oracle.com/javase/7/docs/api/java/text/SimpleDateFormat.html"
   ]
  },
  {
   "cell_type": "code",
   "execution_count": 12,
   "metadata": {},
   "outputs": [],
   "source": [
    "# Gruppierte Daten nach Stundenspalte sortiert neu abspeichern\n",
    "dataPerHour = data\\\n",
    "    .groupBy(F.date_format(data.date, \"H\"))\\\n",
    "    .count()\\\n",
    "    .orderBy(\"date_format(date, H)\")\\\n",
    "    .cache()"
   ]
  },
  {
   "cell_type": "code",
   "execution_count": 13,
   "metadata": {},
   "outputs": [
    {
     "name": "stdout",
     "output_type": "stream",
     "text": [
      "+--------------------+------+----+\n",
      "|date_format(date, H)| count|hour|\n",
      "+--------------------+------+----+\n",
      "|                   0|103836|   0|\n",
      "|                   1| 67227|   1|\n",
      "|                   2| 45865|   2|\n",
      "|                   3| 48287|   3|\n",
      "|                   4| 55230|   4|\n",
      "|                   5| 83939|   5|\n",
      "|                   6|143213|   6|\n",
      "|                   7|193094|   7|\n",
      "|                   8|190504|   8|\n",
      "|                   9|159967|   9|\n",
      "|                  10|159148|  10|\n",
      "|                  11|165703|  11|\n",
      "|                  12|170452|  12|\n",
      "|                  13|195877|  13|\n",
      "|                  14|230625|  14|\n",
      "|                  15|275466|  15|\n",
      "|                  16|313400|  16|\n",
      "|                  17|336190|  17|\n",
      "|                  18|324679|  18|\n",
      "|                  19|294513|  19|\n",
      "+--------------------+------+----+\n",
      "only showing top 20 rows\n",
      "\n"
     ]
    }
   ],
   "source": [
    "# Da Stundenspalte ein String ist, wird diese noch umgewandelt\n",
    "# anschließend wird nach der neuen umgewandelten Spalte sortiert\n",
    "dataPerHour\\\n",
    "    .withColumn(\"hour\", dataPerHour[\"date_format(date, H)\"].cast(IntegerType()))\\\n",
    "    .orderBy(\"hour\")\\\n",
    "    .show()"
   ]
  },
  {
   "cell_type": "code",
   "execution_count": 14,
   "metadata": {},
   "outputs": [],
   "source": [
    "# Daten als Pythonobjekt abfragen\n",
    "###\n",
    "dataPerHourFetched = dataPerHour\\\n",
    "    .withColumn(\"hour\", dataPerHour[\"date_format(date, H)\"].cast(IntegerType()))\\\n",
    "    .orderBy(\"hour\")\\\n",
    "    .collect()"
   ]
  },
  {
   "cell_type": "code",
   "execution_count": 15,
   "metadata": {},
   "outputs": [
    {
     "name": "stdout",
     "output_type": "stream",
     "text": [
      "[Row(date_format(date, H)='0', count=103836, hour=0), Row(date_format(date, H)='1', count=67227, hour=1), Row(date_format(date, H)='2', count=45865, hour=2), Row(date_format(date, H)='3', count=48287, hour=3), Row(date_format(date, H)='4', count=55230, hour=4), Row(date_format(date, H)='5', count=83939, hour=5), Row(date_format(date, H)='6', count=143213, hour=6), Row(date_format(date, H)='7', count=193094, hour=7), Row(date_format(date, H)='8', count=190504, hour=8), Row(date_format(date, H)='9', count=159967, hour=9), Row(date_format(date, H)='10', count=159148, hour=10), Row(date_format(date, H)='11', count=165703, hour=11), Row(date_format(date, H)='12', count=170452, hour=12), Row(date_format(date, H)='13', count=195877, hour=13), Row(date_format(date, H)='14', count=230625, hour=14), Row(date_format(date, H)='15', count=275466, hour=15), Row(date_format(date, H)='16', count=313400, hour=16), Row(date_format(date, H)='17', count=336190, hour=17), Row(date_format(date, H)='18', count=324679, hour=18), Row(date_format(date, H)='19', count=294513, hour=19), Row(date_format(date, H)='20', count=284604, hour=20), Row(date_format(date, H)='21', count=281460, hour=21), Row(date_format(date, H)='22', count=241858, hour=22), Row(date_format(date, H)='23', count=169190, hour=23)]\n"
     ]
    }
   ],
   "source": [
    "print(dataPerHourFetched)"
   ]
  },
  {
   "cell_type": "code",
   "execution_count": 16,
   "metadata": {},
   "outputs": [],
   "source": [
    "x = []\n",
    "y = []\n",
    "for row in dataPerHourFetched:\n",
    "    x.append(row[\"date_format(date, H)\"])\n",
    "    y.append(row[\"count\"])\n"
   ]
  },
  {
   "cell_type": "code",
   "execution_count": 17,
   "metadata": {},
   "outputs": [],
   "source": [
    "%matplotlib inline\n",
    "\n",
    "import matplotlib.pyplot as plt"
   ]
  },
  {
   "cell_type": "code",
   "execution_count": 18,
   "metadata": {},
   "outputs": [
    {
     "data": {
      "image/png": "[encoded data removed]",
      "text/plain": [
       "<Figure size 432x288 with 1 Axes>"
      ]
     },
     "metadata": {
      "needs_background": "light"
     },
     "output_type": "display_data"
    }
   ],
   "source": [
    "plt.plot(x, y, 'bo')\n",
    "plt.grid()\n",
    "plt.show()"
   ]
  },
  {
   "cell_type": "markdown",
   "metadata": {},
   "source": [
    "Plot zeigt die kumulierte Anzahl an Fahrten je Tageszeit."
   ]
  },
  {
   "cell_type": "code",
   "execution_count": null,
   "metadata": {},
   "outputs": [],
   "source": []
  }
 ],
 "metadata": {
  "kernelspec": {
   "display_name": "Python 3",
   "language": "python",
   "name": "python3"
  },
  "language_info": {
   "codemirror_mode": {
    "name": "ipython",
    "version": 3
   },
   "file_extension": ".py",
   "mimetype": "text/x-python",
   "name": "python",
   "nbconvert_exporter": "python",
   "pygments_lexer": "ipython3",
   "version": "3.8.3"
  }
 },
 "nbformat": 4,
 "nbformat_minor": 2
}

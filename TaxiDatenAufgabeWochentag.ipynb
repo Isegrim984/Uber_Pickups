{
 "cells": [
  {
   "cell_type": "markdown",
   "metadata": {},
   "source": [
    "# Uber Taxidaten in NYC mit Aufgabe\n",
    "## Zeitraum April bis September 2014\n",
    "- Rohdaten enthalten Datum mit Uhrzeit und den Länge/Breite, wohin ein Uber bestellt wurde\n",
    "- jede Zeile repräsentiert eine Fahrt"
   ]
  },
  {
   "cell_type": "code",
   "execution_count": 1,
   "metadata": {},
   "outputs": [
    {
     "name": "stdout",
     "output_type": "stream",
     "text": [
      "env: SPARK_LOCAL_HOSTNAME=localhost\n"
     ]
    }
   ],
   "source": [
    "%matplotlib inline\n",
    "\n",
    "import matplotlib.pyplot as plt\n",
    "\n",
    "%env SPARK_LOCAL_HOSTNAME=localhost\n",
    "import findspark\n",
    "findspark.init()\n",
    "findspark.find()\n",
    "import pyspark\n",
    "from pyspark.sql import SparkSession\n",
    "from pyspark.sql.functions import col\n",
    "from pyspark.sql.types import *"
   ]
  },
  {
   "cell_type": "code",
   "execution_count": 2,
   "metadata": {},
   "outputs": [],
   "source": [
    "# Daten einlesen mit typisiertem Schema\n",
    "# Dateipfad *.csv bedeutet alle csv werden geladen\n",
    "spark = SparkSession.builder.appName(\"TaxiData\").getOrCreate()\n",
    "\n",
    "schema = StructType([\n",
    "    StructField(\"date\", StringType()),\n",
    "    StructField(\"lat\", DoubleType()),\n",
    "    StructField(\"lon\", DoubleType()),\n",
    "    StructField(\"base\", StringType())\n",
    "])\n",
    "\n",
    "csv = spark.read.option(\"header\", \"true\").csv(\"./data/uber/*.csv\", schema = schema).cache()"
   ]
  },
  {
   "cell_type": "code",
   "execution_count": 3,
   "metadata": {},
   "outputs": [
    {
     "name": "stdout",
     "output_type": "stream",
     "text": [
      "+----------------+-------+--------+------+\n",
      "|            date|    lat|     lon|  base|\n",
      "+----------------+-------+--------+------+\n",
      "|8/1/2014 0:03:00|40.7366|-73.9906|B02512|\n",
      "|8/1/2014 0:09:00| 40.726|-73.9918|B02512|\n",
      "|8/1/2014 0:12:00|40.7209|-74.0507|B02512|\n",
      "|8/1/2014 0:12:00|40.7387|-73.9856|B02512|\n",
      "|8/1/2014 0:12:00|40.7323|-74.0077|B02512|\n",
      "|8/1/2014 0:13:00|40.7349|-74.0033|B02512|\n",
      "|8/1/2014 0:15:00|40.7279|-73.9542|B02512|\n",
      "|8/1/2014 0:17:00| 40.721|-73.9937|B02512|\n",
      "|8/1/2014 0:19:00|40.7195| -74.006|B02512|\n",
      "|8/1/2014 0:20:00|40.7448|-73.9799|B02512|\n",
      "|8/1/2014 0:21:00|40.7399|-74.0057|B02512|\n",
      "|8/1/2014 0:25:00|40.7651|-73.9683|B02512|\n",
      "|8/1/2014 0:27:00|40.7354|-74.0081|B02512|\n",
      "|8/1/2014 0:29:00|40.7339|-74.0028|B02512|\n",
      "|8/1/2014 0:29:00|40.7364|-74.0301|B02512|\n",
      "|8/1/2014 0:29:00|40.7364|-74.0301|B02512|\n",
      "|8/1/2014 0:30:00|40.7252|-73.9516|B02512|\n",
      "|8/1/2014 0:30:00|40.7433| -73.986|B02512|\n",
      "|8/1/2014 0:34:00|40.7437|-73.9884|B02512|\n",
      "|8/1/2014 0:36:00|40.7406|-74.0077|B02512|\n",
      "+----------------+-------+--------+------+\n",
      "only showing top 20 rows\n",
      "\n"
     ]
    }
   ],
   "source": [
    "csv.show()"
   ]
  },
  {
   "cell_type": "code",
   "execution_count": 4,
   "metadata": {},
   "outputs": [
    {
     "name": "stdout",
     "output_type": "stream",
     "text": [
      "root\n",
      " |-- date: string (nullable = true)\n",
      " |-- lat: double (nullable = true)\n",
      " |-- lon: double (nullable = true)\n",
      " |-- base: string (nullable = true)\n",
      "\n"
     ]
    }
   ],
   "source": [
    "# erste Spalte als Datum noch auf String\n",
    "# Ziel: echtes Datumsformat verwenden mittels eigener Funktion\n",
    "csv.printSchema()"
   ]
  },
  {
   "cell_type": "markdown",
   "metadata": {},
   "source": [
    "**`strptime(date_string, format)`**\n",
    "- *`date_string`* ist der Sring, wie er in den Daten vorliegt\n",
    "- *`format`* muss das vorliegende Format des *`date_strings`* wiedergeben"
   ]
  },
  {
   "cell_type": "code",
   "execution_count": 5,
   "metadata": {},
   "outputs": [],
   "source": [
    "# importiere datetime KLasse\n",
    "from datetime import datetime\n",
    "# Benutzerdefinierte Funktion (User defined function)\n",
    "from pyspark.sql.functions import udf\n",
    "\n",
    "# mit dieser Funktion lässt sich die Datumsspalte umwandeln\n",
    "f = udf(lambda x: datetime.strptime(x, \"%m/%d/%Y %H:%M:%S\"), TimestampType())"
   ]
  },
  {
   "cell_type": "markdown",
   "metadata": {},
   "source": [
    "**`udf` kann nun in der `withColumn()`-Funktion als zweiter Parameter zum Umwandeln in Datumsformat genutzt werden**"
   ]
  },
  {
   "cell_type": "code",
   "execution_count": 6,
   "metadata": {},
   "outputs": [
    {
     "name": "stdout",
     "output_type": "stream",
     "text": [
      "root\n",
      " |-- date: timestamp (nullable = true)\n",
      " |-- lat: double (nullable = true)\n",
      " |-- lon: double (nullable = true)\n",
      " |-- base: string (nullable = true)\n",
      "\n"
     ]
    }
   ],
   "source": [
    "csv.withColumn(\"date\", f(csv.date)).printSchema()"
   ]
  },
  {
   "cell_type": "markdown",
   "metadata": {},
   "source": [
    "PySpark SQL - Dokumentation: http://spark.apache.org/docs/2.1.0/api/python/pyspark.sql.html"
   ]
  },
  {
   "cell_type": "code",
   "execution_count": 7,
   "metadata": {},
   "outputs": [
    {
     "name": "stdout",
     "output_type": "stream",
     "text": [
      "+-------------------+-------+--------+------+\n",
      "|               date|    lat|     lon|  base|\n",
      "+-------------------+-------+--------+------+\n",
      "|2014-08-01 00:03:00|40.7366|-73.9906|B02512|\n",
      "|2014-08-01 00:09:00| 40.726|-73.9918|B02512|\n",
      "|2014-08-01 00:12:00|40.7209|-74.0507|B02512|\n",
      "|2014-08-01 00:12:00|40.7387|-73.9856|B02512|\n",
      "|2014-08-01 00:12:00|40.7323|-74.0077|B02512|\n",
      "|2014-08-01 00:13:00|40.7349|-74.0033|B02512|\n",
      "|2014-08-01 00:15:00|40.7279|-73.9542|B02512|\n",
      "|2014-08-01 00:17:00| 40.721|-73.9937|B02512|\n",
      "|2014-08-01 00:19:00|40.7195| -74.006|B02512|\n",
      "|2014-08-01 00:20:00|40.7448|-73.9799|B02512|\n",
      "|2014-08-01 00:21:00|40.7399|-74.0057|B02512|\n",
      "|2014-08-01 00:25:00|40.7651|-73.9683|B02512|\n",
      "|2014-08-01 00:27:00|40.7354|-74.0081|B02512|\n",
      "|2014-08-01 00:29:00|40.7339|-74.0028|B02512|\n",
      "|2014-08-01 00:29:00|40.7364|-74.0301|B02512|\n",
      "|2014-08-01 00:29:00|40.7364|-74.0301|B02512|\n",
      "|2014-08-01 00:30:00|40.7252|-73.9516|B02512|\n",
      "|2014-08-01 00:30:00|40.7433| -73.986|B02512|\n",
      "|2014-08-01 00:34:00|40.7437|-73.9884|B02512|\n",
      "|2014-08-01 00:36:00|40.7406|-74.0077|B02512|\n",
      "+-------------------+-------+--------+------+\n",
      "only showing top 20 rows\n",
      "\n"
     ]
    }
   ],
   "source": [
    "# Fertige Formatierung der Daten\n",
    "###\n",
    "data = csv.withColumn(\"date\", f(csv.date))\n",
    "data.show()"
   ]
  },
  {
   "cell_type": "markdown",
   "metadata": {},
   "source": [
    "## Aufgabe!\n",
    "\n",
    "Wie sieht dieses Diagramm über die Wochentage aus? \n",
    "An welchem Wochentag gibt es am meisten Nachfrage nach einem Uber?\n",
    "\n",
    "Hinweis: Schau dir die Parameter - Liste für die date_format - Funktion am Besten in der Dokumentation für Java 7+ an (http://docs.oracle.com/javase/7/docs/api/java/text/SimpleDateFormat.html), dann hast du die Möglichkeit, den Tag in der Woche als Zahl (1 = Montag, ..., 7 = Sonntag) zu bekommen. Das vereinfacht die Grafik!"
   ]
  },
  {
   "cell_type": "code",
   "execution_count": 8,
   "metadata": {},
   "outputs": [
    {
     "data": {
      "text/plain": [
       "DataFrame[key: string, value: string]"
      ]
     },
     "execution_count": 8,
     "metadata": {},
     "output_type": "execute_result"
    }
   ],
   "source": [
    "# in Aktueller SparkVersion werden Datumsparser, die mit Wochentagen zu tun haben, nicht mehr unterstützt\n",
    "# Parser Policy muss zurück gesetzt werden auf Version VOR 3.0\n",
    "# Wochentag Parser \"u\" wird nun unterstützt\n",
    "spark.sql(\"set spark.sql.legacy.timeParserPolicy=LEGACY\")"
   ]
  },
  {
   "cell_type": "code",
   "execution_count": 9,
   "metadata": {},
   "outputs": [
    {
     "name": "stdout",
     "output_type": "stream",
     "text": [
      "+--------------------+------+\n",
      "|date_format(date, u)| count|\n",
      "+--------------------+------+\n",
      "|                   7|490180|\n",
      "|                   3|696488|\n",
      "|                   5|741139|\n",
      "|                   6|646114|\n",
      "|                   1|541472|\n",
      "|                   4|755145|\n",
      "|                   2|663789|\n",
      "+--------------------+------+\n",
      "\n"
     ]
    }
   ],
   "source": [
    "# Daten gruppieren nach Wochentag und zählen\n",
    "import pyspark.sql.functions as F\n",
    "data.groupBy(F.date_format(data.date, \"u\")).count().show()"
   ]
  },
  {
   "cell_type": "code",
   "execution_count": 10,
   "metadata": {},
   "outputs": [],
   "source": [
    "# Daten nach Wochentag (Nummer) gruppieren\n",
    "dataPerDayOfWeek = data\\\n",
    "    .groupBy(F.date_format(data.date, \"u\"))\\\n",
    "    .count()\\\n",
    "    .orderBy(\"date_format(date, u)\")\\\n",
    "    .cache()"
   ]
  },
  {
   "cell_type": "code",
   "execution_count": 11,
   "metadata": {},
   "outputs": [
    {
     "name": "stdout",
     "output_type": "stream",
     "text": [
      "+--------------------+------+---------+\n",
      "|date_format(date, u)| count|dayOfWeek|\n",
      "+--------------------+------+---------+\n",
      "|                   1|541472|        1|\n",
      "|                   2|663789|        2|\n",
      "|                   3|696488|        3|\n",
      "|                   4|755145|        4|\n",
      "|                   5|741139|        5|\n",
      "|                   6|646114|        6|\n",
      "|                   7|490180|        7|\n",
      "+--------------------+------+---------+\n",
      "\n"
     ]
    }
   ],
   "source": [
    "# Neue Tagesspalte wieder in Integer umwandeln: dritte Spalte, \n",
    "# aufsteigend sortieren nach dritter Spalte\n",
    "dataPerDayOfWeek\\\n",
    "    .withColumn(\"dayOfWeek\", dataPerDayOfWeek[\"date_format(date, u)\"].cast(IntegerType()))\\\n",
    "    .orderBy(\"dayOfWeek\")\\\n",
    "    .show()"
   ]
  },
  {
   "cell_type": "code",
   "execution_count": 12,
   "metadata": {},
   "outputs": [],
   "source": [
    "# Daten in Pythonobjekt\n",
    "dataPerDayOfWeekFetched = dataPerDayOfWeek\\\n",
    "    .withColumn(\"dayOfWeek\", dataPerDayOfWeek[\"date_format(date, u)\"].cast(IntegerType()))\\\n",
    "    .orderBy(\"dayOfWeek\")\\\n",
    "    .collect()"
   ]
  },
  {
   "cell_type": "code",
   "execution_count": 13,
   "metadata": {},
   "outputs": [
    {
     "name": "stdout",
     "output_type": "stream",
     "text": [
      "[Row(date_format(date, u)='1', count=541472, dayOfWeek=1), Row(date_format(date, u)='2', count=663789, dayOfWeek=2), Row(date_format(date, u)='3', count=696488, dayOfWeek=3), Row(date_format(date, u)='4', count=755145, dayOfWeek=4), Row(date_format(date, u)='5', count=741139, dayOfWeek=5), Row(date_format(date, u)='6', count=646114, dayOfWeek=6), Row(date_format(date, u)='7', count=490180, dayOfWeek=7)]\n"
     ]
    }
   ],
   "source": [
    "print(dataPerDayOfWeekFetched)"
   ]
  },
  {
   "cell_type": "code",
   "execution_count": 14,
   "metadata": {},
   "outputs": [
    {
     "data": {
      "image/png": "[encoded data removed]",
      "text/plain": [
       "<Figure size 432x288 with 1 Axes>"
      ]
     },
     "metadata": {
      "needs_background": "light"
     },
     "output_type": "display_data"
    }
   ],
   "source": [
    "x = []\n",
    "y = []\n",
    "\n",
    "for row in dataPerDayOfWeekFetched:\n",
    "    x.append(row.dayOfWeek)\n",
    "    y.append(row[\"count\"])\n",
    "\n",
    "import matplotlib.pyplot as plt\n",
    "%matplotlib inline\n",
    "plt.plot(x,y, 'bo')\n",
    "plt.grid()\n",
    "plt.show()"
   ]
  },
  {
   "cell_type": "code",
   "execution_count": null,
   "metadata": {},
   "outputs": [],
   "source": []
  }
 ],
 "metadata": {
  "kernelspec": {
   "display_name": "Python 3",
   "language": "python",
   "name": "python3"
  },
  "language_info": {
   "codemirror_mode": {
    "name": "ipython",
    "version": 3
   },
   "file_extension": ".py",
   "mimetype": "text/x-python",
   "name": "python",
   "nbconvert_exporter": "python",
   "pygments_lexer": "ipython3",
   "version": "3.8.3"
  }
 },
 "nbformat": 4,
 "nbformat_minor": 2
}
